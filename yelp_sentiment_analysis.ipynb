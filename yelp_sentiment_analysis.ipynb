{
 "cells": [
  {
   "attachments": {},
   "cell_type": "markdown",
   "metadata": {},
   "source": [
    "# A Sentiment Analysis of Yelp Reviews\n",
    "## Author: Robert Surridge"
   ]
  },
  {
   "attachments": {},
   "cell_type": "markdown",
   "metadata": {},
   "source": [
    "### 1. Import necessary packages:"
   ]
  },
  {
   "cell_type": "code",
   "execution_count": 259,
   "metadata": {},
   "outputs": [
    {
     "name": "stderr",
     "output_type": "stream",
     "text": [
      "[nltk_data] Downloading package stopwords to\n",
      "[nltk_data]     /Users/rsurridge/nltk_data...\n",
      "[nltk_data]   Package stopwords is already up-to-date!\n"
     ]
    }
   ],
   "source": [
    "import pandas as pd\n",
    "import json\n",
    "import matplotlib.pyplot as plt\n",
    "import seaborn as sns\n",
    "import nltk\n",
    "nltk.download('stopwords')\n",
    "from nltk.corpus import stopwords\n",
    "import string\n",
    "from sklearn.feature_extraction.text import CountVectorizer\n",
    "from sklearn.model_selection import train_test_split\n",
    "from sklearn.metrics import classification_report, confusion_matrix, accuracy_score\n",
    "%matplotlib inline"
   ]
  },
  {
   "attachments": {},
   "cell_type": "markdown",
   "metadata": {},
   "source": [
    "### 2. Load the dataset with a sample of 10000 Yelp reviews, explore the metadata, and add a column \"length\" that contains the number of words per review:"
   ]
  },
  {
   "cell_type": "code",
   "execution_count": 260,
   "metadata": {},
   "outputs": [
    {
     "name": "stdout",
     "output_type": "stream",
     "text": [
      "\n",
      "Shape of the dataset: (10000, 10)\n",
      "\n",
      "Column names: Index(['review_id', 'user_id', 'business_id', 'stars', 'useful', 'funny',\n",
      "       'cool', 'text', 'date', 'length'],\n",
      "      dtype='object')\n",
      "\n",
      "Datatype of each column:\n",
      "review_id              object\n",
      "user_id                object\n",
      "business_id            object\n",
      "stars                 float64\n",
      "useful                  int64\n",
      "funny                   int64\n",
      "cool                    int64\n",
      "text                   object\n",
      "date           datetime64[ns]\n",
      "length                  int64\n",
      "dtype: object\n",
      "\n",
      "A few dataset entries:\n",
      "                review_id                 user_id             business_id   \n",
      "0  KU_O5udG6zpxOg-VcAEodg  mh_-eMZ6K5RLWhZyISBhwA  XQfwVwDr-v0ZS3_CbbE5Xw  \\\n",
      "1  BiTunyQ73aT9WBnpR9DZGw  OyoGAe7OKpv6SyGZT5g77Q  7ATYjTIgM3jUlt4UM3IypQ   \n",
      "2  saUsX_uimxRlCVr67Z4Jig  8g_iMtfSiwikVnbP2etR0A  YjUWPpI6HXG530lwP-fb2A   \n",
      "3  AqPFMleE6RsU23_auESxiA  _7bHUi9Uuf5__HHc_Q8guQ  kxX2SOes4o-D3ZQBkiMRfA   \n",
      "4  Sx8TMOWLNuJBWer-0pcmoA  bcjbaE6dDog4jkNY91ncLQ  e4Vwtrqf-wpJfwesgvdgxQ   \n",
      "\n",
      "   stars  useful  funny  cool   \n",
      "0    3.0       0      0     0  \\\n",
      "1    5.0       1      0     1   \n",
      "2    3.0       0      0     0   \n",
      "3    5.0       1      0     1   \n",
      "4    4.0       1      0     1   \n",
      "\n",
      "                                                text                date   \n",
      "0  If you decide to eat here, just be aware it is... 2018-07-07 22:09:11  \\\n",
      "1  I've taken a lot of spin classes over the year... 2012-01-03 15:28:18   \n",
      "2  Family diner. Had the buffet. Eclectic assortm... 2014-02-05 20:30:30   \n",
      "3  Wow!  Yummy, different,  delicious.   Our favo... 2015-01-04 00:01:03   \n",
      "4  Cute interior and owner (?) gave us tour of up... 2017-01-14 20:54:15   \n",
      "\n",
      "   length  \n",
      "0     513  \n",
      "1     829  \n",
      "2     339  \n",
      "3     243  \n",
      "4     534  \n",
      "\n",
      "Dataset Summary:\n"
     ]
    },
    {
     "data": {
      "text/html": [
       "<div>\n",
       "<style scoped>\n",
       "    .dataframe tbody tr th:only-of-type {\n",
       "        vertical-align: middle;\n",
       "    }\n",
       "\n",
       "    .dataframe tbody tr th {\n",
       "        vertical-align: top;\n",
       "    }\n",
       "\n",
       "    .dataframe thead th {\n",
       "        text-align: right;\n",
       "    }\n",
       "</style>\n",
       "<table border=\"1\" class=\"dataframe\">\n",
       "  <thead>\n",
       "    <tr style=\"text-align: right;\">\n",
       "      <th></th>\n",
       "      <th>review_id</th>\n",
       "      <th>user_id</th>\n",
       "      <th>business_id</th>\n",
       "      <th>stars</th>\n",
       "      <th>useful</th>\n",
       "      <th>funny</th>\n",
       "      <th>cool</th>\n",
       "      <th>text</th>\n",
       "      <th>date</th>\n",
       "      <th>length</th>\n",
       "    </tr>\n",
       "  </thead>\n",
       "  <tbody>\n",
       "    <tr>\n",
       "      <th>count</th>\n",
       "      <td>10000</td>\n",
       "      <td>10000</td>\n",
       "      <td>10000</td>\n",
       "      <td>10000.000000</td>\n",
       "      <td>10000.000000</td>\n",
       "      <td>10000.000000</td>\n",
       "      <td>10000.000000</td>\n",
       "      <td>10000</td>\n",
       "      <td>10000</td>\n",
       "      <td>10000.000000</td>\n",
       "    </tr>\n",
       "    <tr>\n",
       "      <th>unique</th>\n",
       "      <td>10000</td>\n",
       "      <td>9472</td>\n",
       "      <td>3930</td>\n",
       "      <td>NaN</td>\n",
       "      <td>NaN</td>\n",
       "      <td>NaN</td>\n",
       "      <td>NaN</td>\n",
       "      <td>10000</td>\n",
       "      <td>NaN</td>\n",
       "      <td>NaN</td>\n",
       "    </tr>\n",
       "    <tr>\n",
       "      <th>top</th>\n",
       "      <td>KU_O5udG6zpxOg-VcAEodg</td>\n",
       "      <td>n-lBS02-3yvlY5Q91mmwDA</td>\n",
       "      <td>GBTPC53ZrG1ZBY3DT8Mbcw</td>\n",
       "      <td>NaN</td>\n",
       "      <td>NaN</td>\n",
       "      <td>NaN</td>\n",
       "      <td>NaN</td>\n",
       "      <td>If you decide to eat here, just be aware it is...</td>\n",
       "      <td>NaN</td>\n",
       "      <td>NaN</td>\n",
       "    </tr>\n",
       "    <tr>\n",
       "      <th>freq</th>\n",
       "      <td>1</td>\n",
       "      <td>6</td>\n",
       "      <td>85</td>\n",
       "      <td>NaN</td>\n",
       "      <td>NaN</td>\n",
       "      <td>NaN</td>\n",
       "      <td>NaN</td>\n",
       "      <td>1</td>\n",
       "      <td>NaN</td>\n",
       "      <td>NaN</td>\n",
       "    </tr>\n",
       "    <tr>\n",
       "      <th>mean</th>\n",
       "      <td>NaN</td>\n",
       "      <td>NaN</td>\n",
       "      <td>NaN</td>\n",
       "      <td>3.854300</td>\n",
       "      <td>0.889100</td>\n",
       "      <td>0.246500</td>\n",
       "      <td>0.335500</td>\n",
       "      <td>NaN</td>\n",
       "      <td>2015-04-17 08:27:40.820000</td>\n",
       "      <td>549.039100</td>\n",
       "    </tr>\n",
       "    <tr>\n",
       "      <th>min</th>\n",
       "      <td>NaN</td>\n",
       "      <td>NaN</td>\n",
       "      <td>NaN</td>\n",
       "      <td>1.000000</td>\n",
       "      <td>0.000000</td>\n",
       "      <td>0.000000</td>\n",
       "      <td>0.000000</td>\n",
       "      <td>NaN</td>\n",
       "      <td>2005-03-01 17:47:15</td>\n",
       "      <td>26.000000</td>\n",
       "    </tr>\n",
       "    <tr>\n",
       "      <th>25%</th>\n",
       "      <td>NaN</td>\n",
       "      <td>NaN</td>\n",
       "      <td>NaN</td>\n",
       "      <td>3.000000</td>\n",
       "      <td>0.000000</td>\n",
       "      <td>0.000000</td>\n",
       "      <td>0.000000</td>\n",
       "      <td>NaN</td>\n",
       "      <td>2013-11-14 11:16:35.500000</td>\n",
       "      <td>224.000000</td>\n",
       "    </tr>\n",
       "    <tr>\n",
       "      <th>50%</th>\n",
       "      <td>NaN</td>\n",
       "      <td>NaN</td>\n",
       "      <td>NaN</td>\n",
       "      <td>4.000000</td>\n",
       "      <td>0.000000</td>\n",
       "      <td>0.000000</td>\n",
       "      <td>0.000000</td>\n",
       "      <td>NaN</td>\n",
       "      <td>2015-09-09 23:20:24</td>\n",
       "      <td>395.000000</td>\n",
       "    </tr>\n",
       "    <tr>\n",
       "      <th>75%</th>\n",
       "      <td>NaN</td>\n",
       "      <td>NaN</td>\n",
       "      <td>NaN</td>\n",
       "      <td>5.000000</td>\n",
       "      <td>1.000000</td>\n",
       "      <td>0.000000</td>\n",
       "      <td>0.000000</td>\n",
       "      <td>NaN</td>\n",
       "      <td>2017-03-27 02:25:32.500000</td>\n",
       "      <td>694.250000</td>\n",
       "    </tr>\n",
       "    <tr>\n",
       "      <th>max</th>\n",
       "      <td>NaN</td>\n",
       "      <td>NaN</td>\n",
       "      <td>NaN</td>\n",
       "      <td>5.000000</td>\n",
       "      <td>91.000000</td>\n",
       "      <td>26.000000</td>\n",
       "      <td>44.000000</td>\n",
       "      <td>NaN</td>\n",
       "      <td>2018-10-04 18:22:35</td>\n",
       "      <td>4994.000000</td>\n",
       "    </tr>\n",
       "    <tr>\n",
       "      <th>std</th>\n",
       "      <td>NaN</td>\n",
       "      <td>NaN</td>\n",
       "      <td>NaN</td>\n",
       "      <td>1.346719</td>\n",
       "      <td>2.092329</td>\n",
       "      <td>0.885221</td>\n",
       "      <td>1.051023</td>\n",
       "      <td>NaN</td>\n",
       "      <td>NaN</td>\n",
       "      <td>504.435838</td>\n",
       "    </tr>\n",
       "  </tbody>\n",
       "</table>\n",
       "</div>"
      ],
      "text/plain": [
       "                     review_id                 user_id   \n",
       "count                    10000                   10000  \\\n",
       "unique                   10000                    9472   \n",
       "top     KU_O5udG6zpxOg-VcAEodg  n-lBS02-3yvlY5Q91mmwDA   \n",
       "freq                         1                       6   \n",
       "mean                       NaN                     NaN   \n",
       "min                        NaN                     NaN   \n",
       "25%                        NaN                     NaN   \n",
       "50%                        NaN                     NaN   \n",
       "75%                        NaN                     NaN   \n",
       "max                        NaN                     NaN   \n",
       "std                        NaN                     NaN   \n",
       "\n",
       "                   business_id         stars        useful         funny   \n",
       "count                    10000  10000.000000  10000.000000  10000.000000  \\\n",
       "unique                    3930           NaN           NaN           NaN   \n",
       "top     GBTPC53ZrG1ZBY3DT8Mbcw           NaN           NaN           NaN   \n",
       "freq                        85           NaN           NaN           NaN   \n",
       "mean                       NaN      3.854300      0.889100      0.246500   \n",
       "min                        NaN      1.000000      0.000000      0.000000   \n",
       "25%                        NaN      3.000000      0.000000      0.000000   \n",
       "50%                        NaN      4.000000      0.000000      0.000000   \n",
       "75%                        NaN      5.000000      1.000000      0.000000   \n",
       "max                        NaN      5.000000     91.000000     26.000000   \n",
       "std                        NaN      1.346719      2.092329      0.885221   \n",
       "\n",
       "                cool                                               text   \n",
       "count   10000.000000                                              10000  \\\n",
       "unique           NaN                                              10000   \n",
       "top              NaN  If you decide to eat here, just be aware it is...   \n",
       "freq             NaN                                                  1   \n",
       "mean        0.335500                                                NaN   \n",
       "min         0.000000                                                NaN   \n",
       "25%         0.000000                                                NaN   \n",
       "50%         0.000000                                                NaN   \n",
       "75%         0.000000                                                NaN   \n",
       "max        44.000000                                                NaN   \n",
       "std         1.051023                                                NaN   \n",
       "\n",
       "                              date        length  \n",
       "count                        10000  10000.000000  \n",
       "unique                         NaN           NaN  \n",
       "top                            NaN           NaN  \n",
       "freq                           NaN           NaN  \n",
       "mean    2015-04-17 08:27:40.820000    549.039100  \n",
       "min            2005-03-01 17:47:15     26.000000  \n",
       "25%     2013-11-14 11:16:35.500000    224.000000  \n",
       "50%            2015-09-09 23:20:24    395.000000  \n",
       "75%     2017-03-27 02:25:32.500000    694.250000  \n",
       "max            2018-10-04 18:22:35   4994.000000  \n",
       "std                            NaN    504.435838  "
      ]
     },
     "execution_count": 260,
     "metadata": {},
     "output_type": "execute_result"
    }
   ],
   "source": [
    "yelp_data = pd.read_json('/Users/rsurridge/Downloads/yelp_data/yelp_academic_dataset_review.json', \n",
    "                         lines=True, chunksize=10000)\n",
    "for chunk in yelp_data:\n",
    "    yelp_sample = chunk\n",
    "    result = chunk.to_json(orient=\"records\")\n",
    "    with open(\"yelp_sample.json\", \"w\") as f:\n",
    "        json.dump(result, f)\n",
    "    break\n",
    "\n",
    "yelp_sample['length'] = yelp_sample['text'].apply(len)\n",
    "yelp_sample['stars'] = yelp_sample['stars'].astype(float)\n",
    "\n",
    "print()\n",
    "print(\"Shape of the dataset:\", yelp_sample.shape)\n",
    "\n",
    "print()\n",
    "print(\"Column names:\", yelp_sample.columns)\n",
    "\n",
    "print()\n",
    "print(\"Datatype of each column:\")\n",
    "print(yelp_sample.dtypes)\n",
    "\n",
    "print()\n",
    "print(\"A few dataset entries:\")\n",
    "print(yelp_sample.head())\n",
    "\n",
    "print()\n",
    "print(\"Dataset Summary:\")\n",
    "yelp_sample.describe(include='all')\n"
   ]
  },
  {
   "attachments": {},
   "cell_type": "markdown",
   "metadata": {},
   "source": [
    "### 3. Plot histograms of review length frenquencies by the star rating:"
   ]
  },
  {
   "cell_type": "code",
   "execution_count": 261,
   "metadata": {},
   "outputs": [
    {
     "data": {
      "text/plain": [
       "<seaborn.axisgrid.FacetGrid at 0x28d981390>"
      ]
     },
     "execution_count": 261,
     "metadata": {},
     "output_type": "execute_result"
    },
    {
     "data": {
      "image/png": "[encoded data removed]",
      "text/plain": [
       "<Figure size 1500x300 with 5 Axes>"
      ]
     },
     "metadata": {},
     "output_type": "display_data"
    }
   ],
   "source": [
    "graph = sns.FacetGrid(data=yelp_sample, col='stars')\n",
    "graph.map(plt.hist, 'length', bins=50, color='blue')"
   ]
  },
  {
   "attachments": {},
   "cell_type": "markdown",
   "metadata": {},
   "source": [
    "### 4. Compare the star rating to the review voting types (useful, funny, and cool) and analyze the correlation between the three review voting types:"
   ]
  },
  {
   "cell_type": "code",
   "execution_count": 262,
   "metadata": {},
   "outputs": [
    {
     "name": "stdout",
     "output_type": "stream",
     "text": [
      "\n",
      "Star rating by review voting types:\n",
      "         useful     funny      cool      length\n",
      "stars                                          \n",
      "1.0    1.446710  0.464319  0.156627  703.558851\n",
      "2.0    1.022280  0.353866  0.180865  670.399738\n",
      "3.0    0.791923  0.279192  0.293240  625.901668\n",
      "4.0    0.836053  0.242813  0.425019  566.729215\n",
      "5.0    0.786502  0.168954  0.364454  460.758830\n",
      "\n",
      "Correlation between review voting types:\n",
      "          useful     funny      cool    length\n",
      "useful  1.000000  0.924108 -0.784997  0.730113\n",
      "funny   0.924108  1.000000 -0.870575  0.935341\n",
      "cool   -0.784997 -0.870575  1.000000 -0.816388\n",
      "length  0.730113  0.935341 -0.816388  1.000000\n",
      "\n",
      "Star count\n",
      "stars\n",
      "5.0    4445\n",
      "4.0    2574\n",
      "3.0    1139\n",
      "2.0     763\n",
      "1.0    1079\n",
      "Name: count, dtype: int64\n"
     ]
    }
   ],
   "source": [
    "yelp_groupby = yelp_sample.loc[:, ['stars', 'useful', 'funny', 'cool', 'length']]\n",
    "star_vote = yelp_groupby.groupby(by='stars').mean()\n",
    "count = yelp_sample['stars'].value_counts().sort_index(ascending=False)\n",
    "\n",
    "print()\n",
    "print(\"Star rating by review voting types:\")\n",
    "print(star_vote)\n",
    "\n",
    "print()\n",
    "print(\"Correlation between review voting types:\")\n",
    "print(star_vote.corr())\n",
    "\n",
    "print()\n",
    "print(\"Star count\")\n",
    "print(count)"
   ]
  },
  {
   "attachments": {},
   "cell_type": "markdown",
   "metadata": {},
   "source": [
    "We want to note here that our sample dataset is biased to more positive reviews than negative reviews. As a result, we should proceed with caution when classifying, training, and predicting with this dataset."
   ]
  },
  {
   "attachments": {},
   "cell_type": "markdown",
   "metadata": {},
   "source": [
    "### 5. Classify the reviews into 1-star (negative), 3-star (neutral), and 5-star (positive) classes and separate the dataset into X and Y subsets for prediction:"
   ]
  },
  {
   "cell_type": "code",
   "execution_count": 263,
   "metadata": {},
   "outputs": [
    {
     "name": "stdout",
     "output_type": "stream",
     "text": [
      "\n",
      "Shape of the dataset: (6663, 2)\n",
      "\n",
      "A few X entries\n",
      "0    If you decide to eat here, just be aware it is...\n",
      "1    I've taken a lot of spin classes over the year...\n",
      "2    Family diner. Had the buffet. Eclectic assortm...\n",
      "3    Wow!  Yummy, different,  delicious.   Our favo...\n",
      "5    I am a long term frequent customer of this est...\n",
      "Name: text, dtype: object\n",
      "\n",
      "A few Y entries\n",
      "0    3.0\n",
      "1    5.0\n",
      "2    3.0\n",
      "3    5.0\n",
      "5    1.0\n",
      "Name: stars, dtype: float64\n"
     ]
    }
   ],
   "source": [
    "yelp_classify = yelp_sample.loc[:, ['stars', 'text']]\n",
    "data_classes = yelp_classify[(yelp_classify['stars']==1) | \n",
    "                           (yelp_classify['stars']==3) | \n",
    "                           (yelp_classify['stars']==5)]\n",
    "\n",
    "print()\n",
    "print(\"Shape of the dataset:\", data_classes.shape)\n",
    "\n",
    "x = data_classes['text']\n",
    "y = data_classes['stars']\n",
    "\n",
    "print()\n",
    "print(\"A few X entries\")\n",
    "print(x.head())\n",
    "\n",
    "print()\n",
    "print(\"A few Y entries\")\n",
    "print(y.head())"
   ]
  },
  {
   "attachments": {},
   "cell_type": "markdown",
   "metadata": {},
   "source": [
    "### 6. Clean the review text by removing stopwords and punctuation:"
   ]
  },
  {
   "cell_type": "code",
   "execution_count": 264,
   "metadata": {},
   "outputs": [],
   "source": [
    "def process_text(text):\n",
    "    nopunc = [char for char in text if char not in string.punctuation]\n",
    "    nopunc = ''.join(nopunc)\n",
    "    return [word for word in nopunc.split() if word.lower() not in stopwords.words('english')]"
   ]
  },
  {
   "attachments": {},
   "cell_type": "markdown",
   "metadata": {},
   "source": [
    "### 7. Convert processed reviews into vectors:"
   ]
  },
  {
   "cell_type": "code",
   "execution_count": 265,
   "metadata": {},
   "outputs": [
    {
     "name": "stdout",
     "output_type": "stream",
     "text": [
      "\n",
      "Number of possible words: 27678\n",
      "\n",
      "Sample Uncleaned Review:\n",
      "I've taken a lot of spin classes over the years, and nothing compares to the classes at Body Cycle. From the nice, clean space and amazing bikes, to the welcoming and motivating instructors, every class is a top notch work out.\n",
      "\n",
      "For anyone who struggles to fit workouts in, the online scheduling system makes it easy to plan ahead (and there's no need to line up way in advanced like many gyms make you do).\n",
      "\n",
      "There is no way I can write this review without giving Russell, the owner of Body Cycle, a shout out. Russell's passion for fitness and cycling is so evident, as is his desire for all of his clients to succeed. He is always dropping in to classes to check in/provide encouragement, and is open to ideas and recommendations from anyone. Russell always wears a smile on his face, even when he's kicking your butt in class!\n",
      "\n",
      "Vectorized Review:\n",
      "  (0, 1658)\t2\n",
      "  (0, 2766)\t2\n",
      "  (0, 4663)\t1\n",
      "  (0, 7464)\t2\n",
      "  (0, 7465)\t1\n",
      "  (0, 9730)\t1\n",
      "  (0, 9817)\t1\n",
      "  (0, 9943)\t2\n",
      "  (0, 9954)\t1\n",
      "  (0, 10084)\t2\n",
      "  (0, 10956)\t1\n",
      "  (0, 11604)\t1\n",
      "  (0, 12111)\t1\n",
      "  (0, 12364)\t2\n",
      "  (0, 12366)\t3\n",
      "  (0, 12383)\t1\n",
      "  (0, 12417)\t1\n",
      "  (0, 12684)\t1\n",
      "  (0, 13479)\t1\n",
      "  (0, 13821)\t1\n",
      "  (0, 14436)\t1\n",
      "  (0, 14557)\t1\n",
      "  (0, 14767)\t1\n",
      "  (0, 14969)\t1\n",
      "  (0, 14985)\t1\n",
      "  :\t:\n",
      "  (0, 20376)\t1\n",
      "  (0, 20659)\t1\n",
      "  (0, 20892)\t1\n",
      "  (0, 21318)\t1\n",
      "  (0, 22348)\t1\n",
      "  (0, 22843)\t1\n",
      "  (0, 23365)\t1\n",
      "  (0, 23841)\t1\n",
      "  (0, 24167)\t1\n",
      "  (0, 24414)\t1\n",
      "  (0, 24522)\t1\n",
      "  (0, 24951)\t1\n",
      "  (0, 25035)\t1\n",
      "  (0, 25299)\t1\n",
      "  (0, 25357)\t1\n",
      "  (0, 25654)\t1\n",
      "  (0, 25939)\t1\n",
      "  (0, 27092)\t2\n",
      "  (0, 27107)\t1\n",
      "  (0, 27158)\t1\n",
      "  (0, 27377)\t1\n",
      "  (0, 27428)\t1\n",
      "  (0, 27439)\t1\n",
      "  (0, 27506)\t1\n",
      "  (0, 27562)\t1\n",
      "\n",
      "Return word from index 5000: KitchenAid\n",
      "Return word from index 20000: nitpicking\n"
     ]
    }
   ],
   "source": [
    "vocab = CountVectorizer(analyzer=process_text).fit(x)\n",
    "r1 = x[1]\n",
    "vocab1 = vocab.transform([r1])\n",
    "\n",
    "print()\n",
    "print(\"Number of possible words:\", len(vocab.vocabulary_))\n",
    "\n",
    "print()\n",
    "print(\"Sample Uncleaned Review:\")\n",
    "print(r1)\n",
    "\n",
    "print()\n",
    "print(\"Vectorized Review:\")\n",
    "print(vocab1)\n",
    "\n",
    "print()\n",
    "print(\"Return word from index 5000:\", vocab.get_feature_names_out()[5000])\n",
    "print(\"Return word from index 20000:\", vocab.get_feature_names_out()[20000])"
   ]
  },
  {
   "attachments": {},
   "cell_type": "markdown",
   "metadata": {},
   "source": [
    "### 8. Vectorize all reviews and split processed dataset into training and testing sets:"
   ]
  },
  {
   "cell_type": "code",
   "execution_count": 266,
   "metadata": {},
   "outputs": [],
   "source": [
    "x = vocab.transform(x)\n",
    "x_train, x_test, y_train, y_test = train_test_split(x, y, test_size=0.2, random_state=101)"
   ]
  },
  {
   "attachments": {},
   "cell_type": "markdown",
   "metadata": {},
   "source": [
    "### 9. Modeling with Multinomial Naive Bayes (since we're working with sparse data, we cannot rely on the Gaussian Naive Bayes assumptions):"
   ]
  },
  {
   "cell_type": "code",
   "execution_count": 267,
   "metadata": {},
   "outputs": [
    {
     "name": "stdout",
     "output_type": "stream",
     "text": [
      "\n",
      "Score: 81.25\n",
      "\n",
      "Classification Report:\n",
      "              precision    recall  f1-score   support\n",
      "\n",
      "         1.0       0.73      0.70      0.72       202\n",
      "         3.0       0.60      0.36      0.45       227\n",
      "         5.0       0.86      0.95      0.90       904\n",
      "\n",
      "    accuracy                           0.81      1333\n",
      "   macro avg       0.73      0.67      0.69      1333\n",
      "weighted avg       0.79      0.81      0.80      1333\n",
      "\n"
     ]
    }
   ],
   "source": [
    "# Multinomial Naive Bayes\n",
    "from sklearn.naive_bayes import MultinomialNB\n",
    "mnb = MultinomialNB()\n",
    "mnb.fit(x_train, y_train)\n",
    "predmnb = mnb.predict(x_test)\n",
    "\n",
    "print()\n",
    "print(\"Score:\", round(accuracy_score(y_test, predmnb) * 100, 2))\n",
    "\n",
    "print()\n",
    "print(\"Classification Report:\")\n",
    "print(classification_report(y_test, predmnb))"
   ]
  },
  {
   "attachments": {},
   "cell_type": "markdown",
   "metadata": {},
   "source": [
    "### 10. Modeling with Random Forest Classifier:"
   ]
  },
  {
   "cell_type": "code",
   "execution_count": 268,
   "metadata": {},
   "outputs": [
    {
     "name": "stdout",
     "output_type": "stream",
     "text": [
      "\n",
      "Score: 77.94\n",
      "\n",
      "Classification Report:\n",
      "              precision    recall  f1-score   support\n",
      "\n",
      "         1.0       0.92      0.54      0.68       202\n",
      "         3.0       0.74      0.16      0.27       227\n",
      "         5.0       0.77      0.99      0.86       904\n",
      "\n",
      "    accuracy                           0.78      1333\n",
      "   macro avg       0.81      0.56      0.60      1333\n",
      "weighted avg       0.79      0.78      0.73      1333\n",
      "\n"
     ]
    }
   ],
   "source": [
    "from sklearn.ensemble import RandomForestClassifier\n",
    "rmfr = RandomForestClassifier()\n",
    "rmfr.fit(x_train, y_train)\n",
    "predrmfr = rmfr.predict(x_test)\n",
    "\n",
    "print()\n",
    "print(\"Score:\", round(accuracy_score(y_test, predrmfr) * 100, 2))\n",
    "\n",
    "print()\n",
    "print(\"Classification Report:\")\n",
    "print(classification_report(y_test, predrmfr))"
   ]
  },
  {
   "attachments": {},
   "cell_type": "markdown",
   "metadata": {},
   "source": [
    "### 11. Modeling with the Decision Tree Classifier:"
   ]
  },
  {
   "cell_type": "code",
   "execution_count": 269,
   "metadata": {},
   "outputs": [
    {
     "name": "stdout",
     "output_type": "stream",
     "text": [
      "\n",
      "Score: 72.17\n",
      "\n",
      "Classification Report:\n",
      "              precision    recall  f1-score   support\n",
      "\n",
      "         1.0       0.59      0.59      0.59       202\n",
      "         3.0       0.40      0.39      0.40       227\n",
      "         5.0       0.83      0.83      0.83       904\n",
      "\n",
      "    accuracy                           0.72      1333\n",
      "   macro avg       0.61      0.61      0.61      1333\n",
      "weighted avg       0.72      0.72      0.72      1333\n",
      "\n"
     ]
    }
   ],
   "source": [
    "from sklearn.tree import DecisionTreeClassifier\n",
    "dt = DecisionTreeClassifier()\n",
    "dt.fit(x_train, y_train)\n",
    "preddt = dt.predict(x_test)\n",
    "\n",
    "print()\n",
    "print(\"Score:\",round(accuracy_score(y_test, preddt) * 100, 2))\n",
    "\n",
    "print()\n",
    "print(\"Classification Report:\")\n",
    "print(classification_report(y_test, preddt))"
   ]
  },
  {
   "attachments": {},
   "cell_type": "markdown",
   "metadata": {},
   "source": [
    "From the above models, we can compare the accuracy scores:\n",
    "* Multinomial Naive Bayes: 81.25\n",
    "* Random Forest Classifier: 77.04\n",
    "* Decision Tree Classifier: 72.54\n",
    "\n",
    "Since the Multinomial Naive Bayes makes the most accurate prediction, let's use it to predict a sample positive, a sample neutral, and a sample negative review:"
   ]
  },
  {
   "attachments": {},
   "cell_type": "markdown",
   "metadata": {},
   "source": [
    "### 12. Classify a positive review:"
   ]
  },
  {
   "cell_type": "code",
   "execution_count": 270,
   "metadata": {},
   "outputs": [
    {
     "name": "stdout",
     "output_type": "stream",
     "text": [
      "\n",
      "Sample positive review:\n",
      "I've taken a lot of spin classes over the years, and nothing compares to the classes at Body Cycle. From the nice, clean space and amazing bikes, to the welcoming and motivating instructors, every class is a top notch work out.\n",
      "\n",
      "For anyone who struggles to fit workouts in, the online scheduling system makes it easy to plan ahead (and there's no need to line up way in advanced like many gyms make you do).\n",
      "\n",
      "There is no way I can write this review without giving Russell, the owner of Body Cycle, a shout out. Russell's passion for fitness and cycling is so evident, as is his desire for all of his clients to succeed. He is always dropping in to classes to check in/provide encouragement, and is open to ideas and recommendations from anyone. Russell always wears a smile on his face, even when he's kicking your butt in class!\n",
      "\n",
      "Actual Rating:  5.0\n",
      "Predicted Rating: 5.0\n"
     ]
    }
   ],
   "source": [
    "pos_rev = yelp_sample['text'][1]\n",
    "pos_rev_trans = vocab.transform([pos_rev])\n",
    "\n",
    "print()\n",
    "print(\"Sample positive review:\")\n",
    "print(pos_rev)\n",
    "\n",
    "print()\n",
    "print(\"Actual Rating: \", yelp_sample['stars'][1])\n",
    "print(\"Predicted Rating:\", mnb.predict(pos_rev_trans)[0])\n"
   ]
  },
  {
   "attachments": {},
   "cell_type": "markdown",
   "metadata": {},
   "source": [
    "### 13. Classify a neutral review:"
   ]
  },
  {
   "cell_type": "code",
   "execution_count": 271,
   "metadata": {},
   "outputs": [
    {
     "name": "stdout",
     "output_type": "stream",
     "text": [
      "\n",
      "Sample neutral review:\n",
      "This easter instead of going to Lopez Lake we went to Los Padres National Forest which is really pretty but if you go to white rock the staff needs to cut down all the dead grass that invades the rock and the water. I would wish the staff would also clean or get rid of the dead grass that's also living by the water. The water is really green and dirty. Los padres national forest staff need to work hard to maintain this forest looking pretty and not like a dumpster. Even Cachuma lake looks like they put a bit more effort.\n",
      "\n",
      "Actual Rating:  3.0\n",
      "Predicted Rating: 3.0\n"
     ]
    }
   ],
   "source": [
    "neut_rev = yelp_sample['text'][8]\n",
    "neut_rev_trans = vocab.transform([neut_rev])\n",
    "\n",
    "print()\n",
    "print(\"Sample neutral review:\")\n",
    "print(neut_rev)\n",
    "\n",
    "print()\n",
    "print(\"Actual Rating: \", yelp_sample['stars'][8])\n",
    "print(\"Predicted Rating:\", mnb.predict(neut_rev_trans)[0])"
   ]
  },
  {
   "attachments": {},
   "cell_type": "markdown",
   "metadata": {},
   "source": [
    "### 14. Classify a negative review:"
   ]
  },
  {
   "cell_type": "code",
   "execution_count": 272,
   "metadata": {},
   "outputs": [
    {
     "name": "stdout",
     "output_type": "stream",
     "text": [
      "\n",
      "Sample negative review:\n",
      "I am a long term frequent customer of this establishment. I just went in to order take out (3 apps) and was told they're too busy to do it. Really? The place is maybe half full at best. Does your dick reach your ass? Yes? Go fuck yourself! I'm a frequent customer AND great tipper. Glad that Kanella just opened. NEVER going back to dmitris!\n",
      "\n",
      "Actual Rating:  1.0\n",
      "Predicted Rating: 1.0\n"
     ]
    }
   ],
   "source": [
    "neg_rev = yelp_sample['text'][5]\n",
    "neg_rev_trans = vocab.transform([neg_rev])\n",
    "\n",
    "print()\n",
    "print(\"Sample negative review:\")\n",
    "print(neg_rev)\n",
    "\n",
    "print()\n",
    "print(\"Actual Rating: \", yelp_sample['stars'][5])\n",
    "print(\"Predicted Rating:\", mnb.predict(neg_rev_trans)[0])\n"
   ]
  }
 ],
 "metadata": {
  "kernelspec": {
   "display_name": "Python 3",
   "language": "python",
   "name": "python3"
  },
  "language_info": {
   "codemirror_mode": {
    "name": "ipython",
    "version": 3
   },
   "file_extension": ".py",
   "mimetype": "text/x-python",
   "name": "python",
   "nbconvert_exporter": "python",
   "pygments_lexer": "ipython3",
   "version": "3.11.2"
  },
  "orig_nbformat": 4
 },
 "nbformat": 4,
 "nbformat_minor": 2
}
